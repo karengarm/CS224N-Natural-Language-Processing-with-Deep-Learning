{
 "cells": [
  {
   "cell_type": "markdown",
   "metadata": {
    "id": "3HqK14JLSStR"
   },
   "source": [
    "# CS224N Assignment 1: Exploring Word Vectors (25 Points)\n",
    "### <font color='blue'> Due 4:30pm, Tue Jan 17 </font>\n",
    "\n",
    "Welcome to CS224N! \n",
    "\n",
    "Before you start, make sure you read the README.txt in the same directory as this notebook for important setup information. A lot of code is provided in this notebook, and we highly encourage you to read and understand it as part of the learning :)\n",
    "\n",
    "If you aren't super familiar with Python, Numpy, or Matplotlib, we recommend you check out the review session on Friday. The session will be recorded and the material will be made available on our [website](http://web.stanford.edu/class/cs224n/index.html#schedule). The CS231N Python/Numpy [tutorial](https://cs231n.github.io/python-numpy-tutorial/) is also a great resource.\n",
    "\n",
    "\n",
    "**Assignment Notes:** Please make sure to save the notebook as you go along. Submission Instructions are located at the bottom of the notebook."
   ]
  },
  {
   "cell_type": "code",
   "execution_count": 1,
   "metadata": {
    "colab": {
     "base_uri": "https://localhost:8080/",
     "height": 0
    },
    "id": "8AGQxROrSStf",
    "outputId": "7c1d76bc-d4cb-4c29-d3ea-94df1402ff90"
   },
   "outputs": [
    {
     "name": "stderr",
     "output_type": "stream",
     "text": [
      "[nltk_data] Downloading package reuters to /root/nltk_data...\n"
     ]
    }
   ],
   "source": [
    "# All Import Statements Defined Here\n",
    "# Note: Do not add to this list.\n",
    "# ----------------\n",
    "\n",
    "import sys\n",
    "assert sys.version_info[0]==3\n",
    "assert sys.version_info[1] >= 5\n",
    "\n",
    "from platform import python_version\n",
    "assert int(python_version().split(\".\")[1]) >= 5, \"Please upgrade your Python version following the instructions in \\\n",
    "    the README.txt file found in the same directory as this notebook. Your Python version is \" + python_version()\n",
    "\n",
    "\n",
    "from gensim.models import KeyedVectors\n",
    "from gensim.test.utils import datapath\n",
    "import pprint\n",
    "import matplotlib.pyplot as plt\n",
    "plt.rcParams['figure.figsize'] = [10, 5]\n",
    "\n",
    "import nltk\n",
    "nltk.download('reuters') #to specify download location, optionally add the argument: download_dir='/specify/desired/path/'\n",
    "from nltk.corpus import reuters\n",
    "\n",
    "import numpy as np\n",
    "import random\n",
    "import scipy as sp\n",
    "from sklearn.decomposition import TruncatedSVD\n",
    "from sklearn.decomposition import PCA\n",
    "\n",
    "START_TOKEN = '<START>'\n",
    "END_TOKEN = '<END>'\n",
    "\n",
    "np.random.seed(0)\n",
    "random.seed(0)\n",
    "# ----------------"
   ]
  },
  {
   "cell_type": "markdown",
   "metadata": {
    "id": "SICd5IedSSto"
   },
   "source": [
    "## Word Vectors\n",
    "\n",
    "Word Vectors are often used as a fundamental component for downstream NLP tasks, e.g. question answering, text generation, translation, etc., so it is important to build some intuitions as to their strengths and weaknesses. Here, you will explore two types of word vectors: those derived from *co-occurrence matrices*, and those derived via *GloVe*. \n",
    "\n",
    "**Note on Terminology:** The terms \"word vectors\" and \"word embeddings\" are often used interchangeably. The term \"embedding\" refers to the fact that we are encoding aspects of a word's meaning in a lower dimensional space. As [Wikipedia](https://en.wikipedia.org/wiki/Word_embedding) states, \"*conceptually it involves a mathematical embedding from a space with one dimension per word to a continuous vector space with a much lower dimension*\"."
   ]
  },
  {
   "cell_type": "markdown",
   "metadata": {
    "id": "6Eug6AVrSStr"
   },
   "source": [
    "## Part 1: Count-Based Word Vectors (10 points)\n",
    "\n",
    "Most word vector models start from the following idea:\n",
    "\n",
    "*You shall know a word by the company it keeps ([Firth, J. R. 1957:11](https://en.wikipedia.org/wiki/John_Rupert_Firth))*\n",
    "\n",
    "Many word vector implementations are driven by the idea that similar words, i.e., (near) synonyms, will be used in similar contexts. As a result, similar words will often be spoken or written along with a shared subset of words, i.e., contexts. By examining these contexts, we can try to develop embeddings for our words. With this intuition in mind, many \"old school\" approaches to constructing word vectors relied on word counts. Here we elaborate upon one of those strategies, *co-occurrence matrices* (for more information, see [here](https://web.stanford.edu/~jurafsky/slp3/6.pdf) or [here](https://medium.com/data-science-group-iitr/word-embedding-2d05d270b285))."
   ]
  },
  {
   "cell_type": "markdown",
   "metadata": {
    "id": "L6uQ9-DVSSts"
   },
   "source": [
    "### Co-Occurrence\n",
    "\n",
    "A co-occurrence matrix counts how often things co-occur in some environment. Given some word $w_i$ occurring in the document, we consider the *context window* surrounding $w_i$. Supposing our fixed window size is $n$, then this is the $n$ preceding and $n$ subsequent words in that document, i.e. words $w_{i-n} \\dots w_{i-1}$ and $w_{i+1} \\dots w_{i+n}$. We build a *co-occurrence matrix* $M$, which is a symmetric word-by-word matrix in which $M_{ij}$ is the number of times $w_j$ appears inside $w_i$'s window among all documents.\n",
    "\n",
    "**Example: Co-Occurrence with Fixed Window of n=1**:\n",
    "\n",
    "Document 1: \"all that glitters is not gold\"\n",
    "\n",
    "Document 2: \"all is well that ends well\"\n",
    "\n",
    "\n",
    "|     *    | `<START>` | all | that | glitters | is   | not  | gold  | well | ends | `<END>` |\n",
    "|----------|-------|-----|------|----------|------|------|-------|------|------|-----|\n",
    "| `<START>`    | 0     | 2   | 0    | 0        | 0    | 0    | 0     | 0    | 0    | 0   |\n",
    "| all      | 2     | 0   | 1    | 0        | 1    | 0    | 0     | 0    | 0    | 0   |\n",
    "| that     | 0     | 1   | 0    | 1        | 0    | 0    | 0     | 1    | 1    | 0   |\n",
    "| glitters | 0     | 0   | 1    | 0        | 1    | 0    | 0     | 0    | 0    | 0   |\n",
    "| is       | 0     | 1   | 0    | 1        | 0    | 1    | 0     | 1    | 0    | 0   |\n",
    "| not      | 0     | 0   | 0    | 0        | 1    | 0    | 1     | 0    | 0    | 0   |\n",
    "| gold     | 0     | 0   | 0    | 0        | 0    | 1    | 0     | 0    | 0    | 1   |\n",
    "| well     | 0     | 0   | 1    | 0        | 1    | 0    | 0     | 0    | 1    | 1   |\n",
    "| ends     | 0     | 0   | 1    | 0        | 0    | 0    | 0     | 1    | 0    | 0   |\n",
    "| `<END>`      | 0     | 0   | 0    | 0        | 0    | 0    | 1     | 1    | 0    | 0   |\n",
    "\n",
    "**Note:** In NLP, we often add `<START>` and `<END>` tokens to represent the beginning and end of sentences, paragraphs or documents. In this case we imagine `<START>` and `<END>` tokens encapsulating each document, e.g., \"`<START>` All that glitters is not gold `<END>`\", and include these tokens in our co-occurrence counts.\n",
    "\n",
    "The rows (or columns) of this matrix provide one type of word vectors (those based on word-word co-occurrence), but the vectors will be large in general (linear in the number of distinct words in a corpus). Thus, our next step is to run *dimensionality reduction*. In particular, we will run *SVD (Singular Value Decomposition)*, which is a kind of generalized *PCA (Principal Components Analysis)* to select the top $k$ principal components. Here's a visualization of dimensionality reduction with SVD. In this picture our co-occurrence matrix is $A$ with $n$ rows corresponding to $n$ words. We obtain a full matrix decomposition, with the singular values ordered in the diagonal $S$ matrix, and our new, shorter length-$k$ word vectors in $U_k$.\n",
    "\n",
    "\n",
    "![svd.png](data:image/png;base64,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)\n",
    "\n",
    "\n",
    "This reduced-dimensionality co-occurrence representation preserves semantic relationships between words, e.g. *doctor* and *hospital* will be closer than *doctor* and *dog*. \n",
    "\n",
    "**Notes:** If you can barely remember what an eigenvalue is, here's [a slow, friendly introduction to SVD](https://davetang.org/file/Singular_Value_Decomposition_Tutorial.pdf). If you want to learn more thoroughly about PCA or SVD, feel free to check out lectures [7](https://web.stanford.edu/class/cs168/l/l7.pdf), [8](http://theory.stanford.edu/~tim/s15/l/l8.pdf), and [9](https://web.stanford.edu/class/cs168/l/l9.pdf) of CS168. These course notes provide a great high-level treatment of these general purpose algorithms. Though, for the purpose of this class, you only need to know how to extract the k-dimensional embeddings by utilizing pre-programmed implementations of these algorithms from the numpy, scipy, or sklearn python packages. In practice, it is challenging to apply full SVD to large corpora because of the memory needed to perform PCA or SVD. However, if you only want the top $k$ vector components for relatively small $k$ — known as [Truncated SVD](https://en.wikipedia.org/wiki/Singular_value_decomposition#Truncated_SVD) — then there are reasonably scalable techniques to compute those iteratively."
   ]
  },
  {
   "cell_type": "markdown",
   "metadata": {
    "id": "7IKeK4xtSStv"
   },
   "source": [
    "### Plotting Co-Occurrence Word Embeddings\n",
    "\n",
    "Here, we will be using the Reuters (business and financial news) corpus. If you haven't run the import cell at the top of this page, please run it now (click it and press SHIFT-RETURN). The corpus consists of 10,788 news documents totaling 1.3 million words. These documents span 90 categories and are split into train and test. For more details, please see https://www.nltk.org/book/ch02.html. We provide a `read_corpus` function below that pulls out only articles from the \"gold\" (i.e. news articles about gold, mining, etc.) category. The function also adds `<START>` and `<END>` tokens to each of the documents, and lowercases words. You do **not** have to perform any other kind of pre-processing."
   ]
  },
  {
   "cell_type": "code",
   "execution_count": 2,
   "metadata": {
    "id": "xwD2htUoSStw"
   },
   "outputs": [],
   "source": [
    "def read_corpus(category=\"gold\"):\n",
    "    \"\"\" Read files from the specified Reuter's category.\n",
    "        Params:\n",
    "            category (string): category name\n",
    "        Return:\n",
    "            list of lists, with words from each of the processed files\n",
    "    \"\"\"\n",
    "    files = reuters.fileids(category)\n",
    "    return [[START_TOKEN] + [w.lower() for w in list(reuters.words(f))] + [END_TOKEN] for f in files]\n"
   ]
  },
  {
   "cell_type": "markdown",
   "metadata": {
    "id": "hVLquFhjSStx"
   },
   "source": [
    "Let's have a look what these documents are like…."
   ]
  },
  {
   "cell_type": "code",
   "execution_count": 3,
   "metadata": {
    "colab": {
     "base_uri": "https://localhost:8080/",
     "height": 0
    },
    "id": "mC7B9Cb-SSty",
    "outputId": "8f73b7a2-efa2-4bb3-ab72-a8584393a028",
    "scrolled": false
   },
   "outputs": [
    {
     "name": "stdout",
     "output_type": "stream",
     "text": [
      "[['<START>', 'western', 'mining', 'to', 'open', 'new', 'gold', 'mine', 'in', 'australia', 'western',\n",
      "  'mining', 'corp', 'holdings', 'ltd', '&', 'lt', ';', 'wmng', '.', 's', '>', '(', 'wmc', ')',\n",
      "  'said', 'it', 'will', 'establish', 'a', 'new', 'joint', 'venture', 'gold', 'mine', 'in', 'the',\n",
      "  'northern', 'territory', 'at', 'a', 'cost', 'of', 'about', '21', 'mln', 'dlrs', '.', 'the',\n",
      "  'mine', ',', 'to', 'be', 'known', 'as', 'the', 'goodall', 'project', ',', 'will', 'be', 'owned',\n",
      "  '60', 'pct', 'by', 'wmc', 'and', '40', 'pct', 'by', 'a', 'local', 'w', '.', 'r', '.', 'grace',\n",
      "  'and', 'co', '&', 'lt', ';', 'gra', '>', 'unit', '.', 'it', 'is', 'located', '30', 'kms', 'east',\n",
      "  'of', 'the', 'adelaide', 'river', 'at', 'mt', '.', 'bundey', ',', 'wmc', 'said', 'in', 'a',\n",
      "  'statement', 'it', 'said', 'the', 'open', '-', 'pit', 'mine', ',', 'with', 'a', 'conventional',\n",
      "  'leach', 'treatment', 'plant', ',', 'is', 'expected', 'to', 'produce', 'about', '50', ',', '000',\n",
      "  'ounces', 'of', 'gold', 'in', 'its', 'first', 'year', 'of', 'production', 'from', 'mid', '-',\n",
      "  '1988', '.', 'annual', 'ore', 'capacity', 'will', 'be', 'about', '750', ',', '000', 'tonnes', '.',\n",
      "  '<END>'],\n",
      " ['<START>', 'belgium', 'to', 'issue', 'gold', 'warrants', ',', 'sources', 'say', 'belgium',\n",
      "  'plans', 'to', 'issue', 'swiss', 'franc', 'warrants', 'to', 'buy', 'gold', ',', 'with', 'credit',\n",
      "  'suisse', 'as', 'lead', 'manager', ',', 'market', 'sources', 'said', '.', 'no', 'confirmation',\n",
      "  'or', 'further', 'details', 'were', 'immediately', 'available', '.', '<END>'],\n",
      " ['<START>', 'belgium', 'launches', 'bonds', 'with', 'gold', 'warrants', 'the', 'kingdom', 'of',\n",
      "  'belgium', 'is', 'launching', '100', 'mln', 'swiss', 'francs', 'of', 'seven', 'year', 'notes',\n",
      "  'with', 'warrants', 'attached', 'to', 'buy', 'gold', ',', 'lead', 'mananger', 'credit', 'suisse',\n",
      "  'said', '.', 'the', 'notes', 'themselves', 'have', 'a', '3', '-', '3', '/', '8', 'pct', 'coupon',\n",
      "  'and', 'are', 'priced', 'at', 'par', '.', 'payment', 'is', 'due', 'april', '30', ',', '1987',\n",
      "  'and', 'final', 'maturity', 'april', '30', ',', '1994', '.', 'each', '50', ',', '000', 'franc',\n",
      "  'note', 'carries', '15', 'warrants', '.', 'two', 'warrants', 'are', 'required', 'to', 'allow',\n",
      "  'the', 'holder', 'to', 'buy', '100', 'grammes', 'of', 'gold', 'at', 'a', 'price', 'of', '2', ',',\n",
      "  '450', 'francs', ',', 'during', 'the', 'entire', 'life', 'of', 'the', 'bond', '.', 'the',\n",
      "  'latest', 'gold', 'price', 'in', 'zurich', 'was', '2', ',', '045', '/', '2', ',', '070', 'francs',\n",
      "  'per', '100', 'grammes', '.', '<END>']]\n"
     ]
    }
   ],
   "source": [
    "reuters_corpus = read_corpus()\n",
    "pprint.pprint(reuters_corpus[:3], compact=True, width=100)"
   ]
  },
  {
   "cell_type": "markdown",
   "metadata": {
    "id": "tfa216H1SSt0"
   },
   "source": [
    "### Question 1.1: Implement `distinct_words` [code] (2 points)\n",
    "\n",
    "Write a method to work out the distinct words (word types) that occur in the corpus. You can do this with `for` loops, but it's more efficient to do it with Python list comprehensions. In particular, [this](https://coderwall.com/p/rcmaea/flatten-a-list-of-lists-in-one-line-in-python) may be useful to flatten a list of lists. If you're not familiar with Python list comprehensions in general, here's [more information](https://python-3-patterns-idioms-test.readthedocs.io/en/latest/Comprehensions.html).\n",
    "\n",
    "Your returned `corpus_words` should be sorted. You can use python's `sorted` function for this.\n",
    "\n",
    "You may find it useful to use [Python sets](https://www.w3schools.com/python/python_sets.asp) to remove duplicate words."
   ]
  },
  {
   "cell_type": "code",
   "execution_count": 4,
   "metadata": {
    "id": "NjJABbVFSSt1"
   },
   "outputs": [],
   "source": [
    "def distinct_words(corpus):\n",
    "    \"\"\" Determine a list of distinct words for the corpus.\n",
    "        Params:\n",
    "            corpus (list of list of strings): corpus of documents\n",
    "        Return:\n",
    "            corpus_words (list of strings): sorted list of distinct words across the corpus\n",
    "            n_corpus_words (integer): number of distinct words across the corpus\n",
    "    \"\"\"\n",
    "    corpus_words = []\n",
    "    n_corpus_words = -1\n",
    "    \n",
    "    ### SOLUTION BEGIN\n",
    "    corpus_words = [*map(set, corpus)]\n",
    "    corpus_words = sorted([*set().union(*corpus_words)])\n",
    "    n_corpus_words = len(corpus_words)\n",
    "    ### SOLUTION END\n",
    "\n",
    "    return corpus_words, n_corpus_words"
   ]
  },
  {
   "cell_type": "code",
   "execution_count": 5,
   "metadata": {
    "colab": {
     "base_uri": "https://localhost:8080/",
     "height": 0
    },
    "id": "iKfXBXySSSt3",
    "outputId": "2dc97ea3-a373-4bf5-dd67-a88c938cbb58"
   },
   "outputs": [
    {
     "name": "stdout",
     "output_type": "stream",
     "text": [
      "--------------------------------------------------------------------------------\n",
      "Passed All Tests!\n",
      "--------------------------------------------------------------------------------\n"
     ]
    }
   ],
   "source": [
    "# ---------------------\n",
    "# Run this sanity check\n",
    "# Note that this not an exhaustive check for correctness.\n",
    "# ---------------------\n",
    "\n",
    "# Define toy corpus\n",
    "test_corpus = [\"{} All that glitters isn't gold {}\".format(START_TOKEN, END_TOKEN).split(\" \"), \"{} All's well that ends well {}\".format(START_TOKEN, END_TOKEN).split(\" \")]\n",
    "test_corpus_words, num_corpus_words = distinct_words(test_corpus)\n",
    "\n",
    "# Correct answers\n",
    "ans_test_corpus_words = sorted([START_TOKEN, \"All\", \"ends\", \"that\", \"gold\", \"All's\", \"glitters\", \"isn't\", \"well\", END_TOKEN])\n",
    "ans_num_corpus_words = len(ans_test_corpus_words)\n",
    "\n",
    "# Test correct number of words\n",
    "assert(num_corpus_words == ans_num_corpus_words), \"Incorrect number of distinct words. Correct: {}. Yours: {}\".format(ans_num_corpus_words, num_corpus_words)\n",
    "\n",
    "# Test correct words\n",
    "assert (test_corpus_words == ans_test_corpus_words), \"Incorrect corpus_words.\\nCorrect: {}\\nYours:   {}\".format(str(ans_test_corpus_words), str(test_corpus_words))\n",
    "\n",
    "# Print Success\n",
    "print (\"-\" * 80)\n",
    "print(\"Passed All Tests!\")\n",
    "print (\"-\" * 80)"
   ]
  },
  {
   "cell_type": "markdown",
   "metadata": {
    "id": "ymDFJn_lSSt5"
   },
   "source": [
    "### Question 1.2: Implement `compute_co_occurrence_matrix` [code] (3 points)\n",
    "\n",
    "Write a method that constructs a co-occurrence matrix for a certain window-size $n$ (with a default of 4), considering words $n$ before and $n$ after the word in the center of the window. Here, we start to use `numpy (np)` to represent vectors, matrices, and tensors. If you're not familiar with NumPy, there's a NumPy tutorial in the second half of this cs231n [Python NumPy tutorial](http://cs231n.github.io/python-numpy-tutorial/).\n"
   ]
  },
  {
   "cell_type": "code",
   "execution_count": 1,
   "metadata": {
    "id": "v8MIy3KDSSt6"
   },
   "outputs": [],
   "source": [
    "def compute_co_occurrence_matrix(corpus, window_size=4):\n",
    "    \"\"\" Compute co-occurrence matrix for the given corpus and window_size (default of 4).\n",
    "    \n",
    "        Note: Each word in a document should be at the center of a window. Words near edges will have a smaller\n",
    "              number of co-occurring words.\n",
    "              \n",
    "              For example, if we take the document \"<START> All that glitters is not gold <END>\" with window size of 4,\n",
    "              \"All\" will co-occur with \"<START>\", \"that\", \"glitters\", \"is\", and \"not\".\n",
    "    \n",
    "        Params:\n",
    "            corpus (list of list of strings): corpus of documents\n",
    "            window_size (int): size of context window\n",
    "        Return:\n",
    "            M (a symmetric numpy matrix of shape (number of unique words in the corpus , number of unique words in the corpus)): \n",
    "                Co-occurence matrix of word counts. \n",
    "                The ordering of the words in the rows/columns should be the same as the ordering of the words given by the distinct_words function.\n",
    "            word2ind (dict): dictionary that maps word to index (i.e. row/column number) for matrix M.\n",
    "    \"\"\"\n",
    "    words, n_words = distinct_words(corpus)\n",
    "    M = None\n",
    "    word2ind = {}\n",
    "    \n",
    "    ### SOLUTION BEGIN\n",
    "   \n",
    "    # map distinct words to an ordered index\n",
    "    for i in range(n_words):\n",
    "        word2ind[words[i]] = i\n",
    "    \n",
    "    M = np.zeros((n_words, n_words))\n",
    "    for sentence in corpus:\n",
    "        for w in range(len(sentence)):\n",
    "            current_word = sentence[w]\n",
    "            neighbors = sentence[max(0, w-window_size):min(len(sentence)\n",
    "                                                    , w+window_size+1)]\n",
    "            \n",
    "            # add neighbors to matrix M\n",
    "            for n in neighbors:\n",
    "                M[word2ind[current_word]][word2ind[n]] += 1\n",
    "            \n",
    "            M[word2ind[current_word]][word2ind[current_word]] -= 1\n",
    "    ### SOLUTION END\n",
    "\n",
    "    return M, word2ind"
   ]
  },
  {
   "cell_type": "code",
   "execution_count": 7,
   "metadata": {
    "colab": {
     "base_uri": "https://localhost:8080/",
     "height": 0
    },
    "id": "u-6ID1qhSSt7",
    "outputId": "9db3118b-1a61-4bf1-871a-787c6e7677e4"
   },
   "outputs": [
    {
     "name": "stdout",
     "output_type": "stream",
     "text": [
      "--------------------------------------------------------------------------------\n",
      "Passed All Tests!\n",
      "--------------------------------------------------------------------------------\n"
     ]
    }
   ],
   "source": [
    "# ---------------------\n",
    "# Run this sanity check\n",
    "# Note that this is not an exhaustive check for correctness.\n",
    "# ---------------------\n",
    "\n",
    "# Define toy corpus and get student's co-occurrence matrix\n",
    "test_corpus = [\"{} All that glitters isn't gold {}\".format(START_TOKEN, END_TOKEN).split(\" \"), \"{} All's well that ends well {}\".format(START_TOKEN, END_TOKEN).split(\" \")]\n",
    "M_test, word2ind_test = compute_co_occurrence_matrix(test_corpus, window_size=1)\n",
    "\n",
    "# Correct M and word2ind\n",
    "M_test_ans = np.array( \n",
    "    [[0., 0., 0., 0., 0., 0., 1., 0., 0., 1.,],\n",
    "     [0., 0., 1., 1., 0., 0., 0., 0., 0., 0.,],\n",
    "     [0., 1., 0., 0., 0., 0., 0., 0., 1., 0.,],\n",
    "     [0., 1., 0., 0., 0., 0., 0., 0., 0., 1.,],\n",
    "     [0., 0., 0., 0., 0., 0., 0., 0., 1., 1.,],\n",
    "     [0., 0., 0., 0., 0., 0., 0., 1., 1., 0.,],\n",
    "     [1., 0., 0., 0., 0., 0., 0., 1., 0., 0.,],\n",
    "     [0., 0., 0., 0., 0., 1., 1., 0., 0., 0.,],\n",
    "     [0., 0., 1., 0., 1., 1., 0., 0., 0., 1.,],\n",
    "     [1., 0., 0., 1., 1., 0., 0., 0., 1., 0.,]]\n",
    ")\n",
    "ans_test_corpus_words = sorted([START_TOKEN, \"All\", \"ends\", \"that\", \"gold\", \"All's\", \"glitters\", \"isn't\", \"well\", END_TOKEN])\n",
    "word2ind_ans = dict(zip(ans_test_corpus_words, range(len(ans_test_corpus_words))))\n",
    "\n",
    "# Test correct word2ind\n",
    "assert (word2ind_ans == word2ind_test), \"Your word2ind is incorrect:\\nCorrect: {}\\nYours: {}\".format(word2ind_ans, word2ind_test)\n",
    "\n",
    "# Test correct M shape\n",
    "assert (M_test.shape == M_test_ans.shape), \"M matrix has incorrect shape.\\nCorrect: {}\\nYours: {}\".format(M_test.shape, M_test_ans.shape)\n",
    "\n",
    "# Test correct M values\n",
    "for w1 in word2ind_ans.keys():\n",
    "    idx1 = word2ind_ans[w1]\n",
    "    for w2 in word2ind_ans.keys():\n",
    "        idx2 = word2ind_ans[w2]\n",
    "        student = M_test[idx1, idx2]\n",
    "        correct = M_test_ans[idx1, idx2]\n",
    "        if student != correct:\n",
    "            print(\"Correct M:\")\n",
    "            print(M_test_ans)\n",
    "            print(\"Your M: \")\n",
    "            print(M_test)\n",
    "            raise AssertionError(\"Incorrect count at index ({}, {})=({}, {}) in matrix M. Yours has {} but should have {}.\".format(idx1, idx2, w1, w2, student, correct))\n",
    "\n",
    "# Print Success\n",
    "print (\"-\" * 80)\n",
    "print(\"Passed All Tests!\")\n",
    "print (\"-\" * 80)"
   ]
  },
  {
   "cell_type": "markdown",
   "metadata": {
    "id": "K-nyJnAASSt9"
   },
   "source": [
    "### Question 1.3: Implement `reduce_to_k_dim` [code] (1 point)\n",
    "\n",
    "Construct a method that performs dimensionality reduction on the matrix to produce k-dimensional embeddings. Use SVD to take the top k components and produce a new matrix of k-dimensional embeddings. \n",
    "\n",
    "**Note:** All of numpy, scipy, and scikit-learn (`sklearn`) provide *some* implementation of SVD, but only scipy and sklearn provide an implementation of Truncated SVD, and only sklearn provides an efficient randomized algorithm for calculating large-scale Truncated SVD. So please use [sklearn.decomposition.TruncatedSVD](https://scikit-learn.org/stable/modules/generated/sklearn.decomposition.TruncatedSVD.html)."
   ]
  },
  {
   "cell_type": "code",
   "execution_count": 8,
   "metadata": {
    "id": "truGMjifSSt9"
   },
   "outputs": [],
   "source": [
    "def reduce_to_k_dim(M, k=2):\n",
    "    \"\"\" Reduce a co-occurence count matrix of dimensionality (num_corpus_words, num_corpus_words)\n",
    "        to a matrix of dimensionality (num_corpus_words, k) using the following SVD function from Scikit-Learn:\n",
    "            - http://scikit-learn.org/stable/modules/generated/sklearn.decomposition.TruncatedSVD.html\n",
    "    \n",
    "        Params:\n",
    "            M (numpy matrix of shape (number of unique words in the corpus , number of unique words in the corpus)): co-occurence matrix of word counts\n",
    "            k (int): embedding size of each word after dimension reduction\n",
    "        Return:\n",
    "            M_reduced (numpy matrix of shape (number of corpus words, k)): matrix of k-dimensioal word embeddings.\n",
    "                    In terms of the SVD from math class, this actually returns U * S\n",
    "    \"\"\"    \n",
    "    n_iters = 10     # Use this parameter in your call to `TruncatedSVD`\n",
    "    M_reduced = None\n",
    "    print(\"Running Truncated SVD over %i words...\" % (M.shape[0]))\n",
    "    \n",
    "    ### SOLUTION BEGIN\n",
    "    truncated_svd = TruncatedSVD(n_components=k)\n",
    "\n",
    "    M_reduced = truncated_svd.fit_transform(M)   \n",
    "    ### SOLUTION END\n",
    "\n",
    "    print(\"Done.\")\n",
    "    return M_reduced"
   ]
  },
  {
   "cell_type": "code",
   "execution_count": 9,
   "metadata": {
    "colab": {
     "base_uri": "https://localhost:8080/",
     "height": 0
    },
    "id": "7pqKuqvhSSt-",
    "outputId": "06ddc66b-6eaf-4806-bc28-a5e998f88614"
   },
   "outputs": [
    {
     "name": "stdout",
     "output_type": "stream",
     "text": [
      "Running Truncated SVD over 10 words...\n",
      "Done.\n",
      "--------------------------------------------------------------------------------\n",
      "Passed All Tests!\n",
      "--------------------------------------------------------------------------------\n"
     ]
    }
   ],
   "source": [
    "# ---------------------\n",
    "# Run this sanity check\n",
    "# Note that this is not an exhaustive check for correctness \n",
    "# In fact we only check that your M_reduced has the right dimensions.\n",
    "# ---------------------\n",
    "\n",
    "# Define toy corpus and run student code\n",
    "test_corpus = [\"{} All that glitters isn't gold {}\".format(START_TOKEN, END_TOKEN).split(\" \"), \"{} All's well that ends well {}\".format(START_TOKEN, END_TOKEN).split(\" \")]\n",
    "M_test, word2ind_test = compute_co_occurrence_matrix(test_corpus, window_size=1)\n",
    "M_test_reduced = reduce_to_k_dim(M_test, k=2)\n",
    "\n",
    "# Test proper dimensions\n",
    "assert (M_test_reduced.shape[0] == 10), \"M_reduced has {} rows; should have {}\".format(M_test_reduced.shape[0], 10)\n",
    "assert (M_test_reduced.shape[1] == 2), \"M_reduced has {} columns; should have {}\".format(M_test_reduced.shape[1], 2)\n",
    "\n",
    "# Print Success\n",
    "print (\"-\" * 80)\n",
    "print(\"Passed All Tests!\")\n",
    "print (\"-\" * 80)"
   ]
  },
  {
   "cell_type": "markdown",
   "metadata": {
    "id": "apZknsLoSSt_"
   },
   "source": [
    "### Question 1.4: Implement `plot_embeddings` [code] (1 point)\n",
    "\n",
    "Here you will write a function to plot a set of 2D vectors in 2D space. For graphs, we will use Matplotlib (`plt`).\n",
    "\n",
    "For this example, you may find it useful to adapt [this code](http://web.archive.org/web/20190924160434/https://www.pythonmembers.club/2018/05/08/matplotlib-scatter-plot-annotate-set-text-at-label-each-point/). In the future, a good way to make a plot is to look at [the Matplotlib gallery](https://matplotlib.org/gallery/index.html), find a plot that looks somewhat like what you want, and adapt the code they give."
   ]
  },
  {
   "cell_type": "code",
   "execution_count": 10,
   "metadata": {
    "id": "dDcCZE5lSSuA"
   },
   "outputs": [],
   "source": [
    "def plot_embeddings(M_reduced, word2ind, words):\n",
    "    \"\"\" Plot in a scatterplot the embeddings of the words specified in the list \"words\".\n",
    "        NOTE: do not plot all the words listed in M_reduced / word2ind.\n",
    "        Include a label next to each point.\n",
    "        \n",
    "        Params:\n",
    "            M_reduced (numpy matrix of shape (number of unique words in the corpus , 2)): matrix of 2-dimensioal word embeddings\n",
    "            word2ind (dict): dictionary that maps word to indices for matrix M\n",
    "            words (list of strings): words whose embeddings we want to visualize\n",
    "    \"\"\"\n",
    "\n",
    "    ### SOLUTION BEGIN\n",
    "    for word in words:\n",
    "        x = M_reduced[word2ind[word]][0]\n",
    "        y = M_reduced[word2ind[word]][1]\n",
    "        plt.scatter(x, y, marker='x', color='red')\n",
    "        plt.text(x+0.0001, y+0.0001, word, fontsize=20)\n",
    "    plt.show()\n",
    "    ### SOLUTION END"
   ]
  },
  {
   "cell_type": "code",
   "execution_count": 11,
   "metadata": {
    "colab": {
     "base_uri": "https://localhost:8080/",
     "height": 375
    },
    "id": "gHxOMWPxSSuB",
    "outputId": "24d0ee56-d7c1-4445-93d3-fd1a6c5a71fe"
   },
   "outputs": [
    {
     "name": "stdout",
     "output_type": "stream",
     "text": [
      "--------------------------------------------------------------------------------\n",
      "Outputted Plot:\n"
     ]
    },
    {
     "data": {
      "image/png": "[encoded data removed]",
      "text/plain": [
       "<Figure size 720x360 with 1 Axes>"
      ]
     },
     "metadata": {
      "needs_background": "light"
     },
     "output_type": "display_data"
    },
    {
     "name": "stdout",
     "output_type": "stream",
     "text": [
      "--------------------------------------------------------------------------------\n"
     ]
    }
   ],
   "source": [
    "# ---------------------\n",
    "# Run this sanity check\n",
    "# Note that this is not an exhaustive check for correctness.\n",
    "# The plot produced should look like the \"test solution plot\" depicted below. \n",
    "# ---------------------\n",
    "\n",
    "print (\"-\" * 80)\n",
    "print (\"Outputted Plot:\")\n",
    "\n",
    "M_reduced_plot_test = np.array([[1, 1], [-1, -1], [1, -1], [-1, 1], [0, 0]])\n",
    "word2ind_plot_test = {'test1': 0, 'test2': 1, 'test3': 2, 'test4': 3, 'test5': 4}\n",
    "words = ['test1', 'test2', 'test3', 'test4', 'test5']\n",
    "plot_embeddings(M_reduced_plot_test, word2ind_plot_test, words)\n",
    "\n",
    "print (\"-\" * 80)"
   ]
  },
  {
   "cell_type": "markdown",
   "metadata": {
    "id": "YpBzYs2hSSuC"
   },
   "source": [
    "### Question 1.5: Co-Occurrence Plot Analysis [written] (3 points)\n",
    "\n",
    "Now we will put together all the parts you have written! We will compute the co-occurrence matrix with fixed window of 4 (the default window size), over the Reuters \"gold\" corpus. Then we will use TruncatedSVD to compute 2-dimensional embeddings of each word. TruncatedSVD returns U\\*S, so we need to normalize the returned vectors, so that all the vectors will appear around the unit circle (therefore closeness is directional closeness). **Note**: The line of code below that does the normalizing uses the NumPy concept of *broadcasting*. If you don't know about broadcasting, check out\n",
    "[Computation on Arrays: Broadcasting by Jake VanderPlas](https://jakevdp.github.io/PythonDataScienceHandbook/02.05-computation-on-arrays-broadcasting.html).\n",
    "\n",
    "Run the below cell to produce the plot. It'll probably take a few seconds to run."
   ]
  },
  {
   "cell_type": "code",
   "execution_count": 12,
   "metadata": {
    "colab": {
     "base_uri": "https://localhost:8080/",
     "height": 357
    },
    "id": "7L1Uk50mSSuD",
    "outputId": "315d4a5b-056e-43cf-97bf-d7c424251589",
    "scrolled": false
   },
   "outputs": [
    {
     "name": "stdout",
     "output_type": "stream",
     "text": [
      "Running Truncated SVD over 2830 words...\n",
      "Done.\n"
     ]
    },
    {
     "data": {
      "image/png": "[encoded data removed]",
      "text/plain": [
       "<Figure size 720x360 with 1 Axes>"
      ]
     },
     "metadata": {
      "needs_background": "light"
     },
     "output_type": "display_data"
    }
   ],
   "source": [
    "# -----------------------------\n",
    "# Run This Cell to Produce Your Plot\n",
    "# ------------------------------\n",
    "reuters_corpus = read_corpus()\n",
    "M_co_occurrence, word2ind_co_occurrence = compute_co_occurrence_matrix(reuters_corpus)\n",
    "M_reduced_co_occurrence = reduce_to_k_dim(M_co_occurrence, k=2)\n",
    "\n",
    "# Rescale (normalize) the rows to make them each of unit-length\n",
    "M_lengths = np.linalg.norm(M_reduced_co_occurrence, axis=1)\n",
    "M_normalized = M_reduced_co_occurrence / M_lengths[:, np.newaxis] # broadcasting\n",
    "\n",
    "words = ['value', 'gold', 'platinum', 'reserves', 'silver', 'metals', 'copper', \n",
    "         'belgium', 'australia', 'china', 'grammes', \"mine\"]\n",
    "\n",
    "plot_embeddings(M_normalized, word2ind_co_occurrence, words)"
   ]
  },
  {
   "cell_type": "markdown",
   "metadata": {
    "id": "RtOd40JTSSuE"
   },
   "source": [
    "**Verify that your figure matches \"question_1.5.png\" in the assignment zip. If not, use that figure to answer the next two questions.**"
   ]
  },
  {
   "cell_type": "markdown",
   "metadata": {
    "id": "ciXWGMvRSSuE"
   },
   "source": [
    "a. Find at least two groups of words that cluster together in 2-dimensional embedding space. Give an explanation for each cluster you observe."
   ]
  },
  {
   "cell_type": "markdown",
   "metadata": {
    "id": "fLU7o3HESSuF"
   },
   "source": [
    "### SOLUTION BEGIN\n",
    "\n",
    "In this example, the co-occurrence matrix counts the number of times each word appears inside a fixed window of size 4 around a word of interest. The method cluster groups of words that tend to occur together in location or written very frequently along with a shared subset of words:\n",
    "\n",
    "- Cluster 1: Gold and Mine\n",
    "- Cluster 2: platinum and copper\n",
    "\n",
    "The cluster 1 ‘gold -mine’ is a common phrase and have more than 46 common occurances inside the fixed window of size 4. In the corpus, they are written in a similar context and appear together with 240 shared words.\n",
    "\n",
    "The cluster 2 'platinum and copper' are both metal.\n",
    "The words copper and platinum doesn't have common occurances inside the fixed window of size 4, but they are written very frequently along with common words in similar context. \n",
    "\n",
    "### SOLUTION END\n"
   ]
  },
  {
   "cell_type": "markdown",
   "metadata": {
    "id": "3H-tyA9RSSuF"
   },
   "source": [
    "b. What doesn't cluster together that you might think should have? Describe at least two examples."
   ]
  },
  {
   "cell_type": "markdown",
   "metadata": {
    "id": "3NG2j9J4SSuG"
   },
   "source": [
    "### SOLUTION BEGIN\n",
    "However, the method fails to capture relationship between words, that doesn't appears in close proximity. Like for example, China is too far from the cluster Australia and Belgium. I also think that metals and copper should be cluster together since they are relatively close together in concept. The cause of this could be that these groups of words do not have common occurrences in the corpus and appear in different contexts, which makes it difficult for the model to calculate better groups.\n",
    "### SOLUTION END"
   ]
  },
  {
   "cell_type": "markdown",
   "metadata": {
    "id": "_h0OzAaRSSuI"
   },
   "source": [
    "## Part 2: Prediction-Based Word Vectors (15 points)\n",
    "\n",
    "As discussed in class, more recently prediction-based word vectors have demonstrated better performance, such as word2vec and GloVe (which also utilizes the benefit of counts). Here, we shall explore the embeddings produced by GloVe. Please revisit the class notes and lecture slides for more details on the word2vec and GloVe algorithms. If you're feeling adventurous, challenge yourself and try reading [GloVe's original paper](https://nlp.stanford.edu/pubs/glove.pdf).\n",
    "\n",
    "Then run the following cells to load the GloVe vectors into memory. **Note**: If this is your first time to run these cells, i.e. download the embedding model, it will take a couple minutes to run. If you've run these cells before, rerunning them will load the model without redownloading it, which will take about 1 to 2 minutes."
   ]
  },
  {
   "cell_type": "code",
   "execution_count": null,
   "metadata": {
    "id": "l3kwvdksSSuI"
   },
   "outputs": [],
   "source": [
    "def load_embedding_model():\n",
    "    \"\"\" Load GloVe Vectors\n",
    "        Return:\n",
    "            wv_from_bin: All 400000 embeddings, each lengh 200\n",
    "    \"\"\"\n",
    "    import gensim.downloader as api\n",
    "    wv_from_bin = api.load(\"glove-wiki-gigaword-200\")\n",
    "    #print(\"Loaded vocab size %i\" % len(list(wv_from_bin.index_to_key)))\n",
    "    print(\"Loaded vocab size %i\" % len(list(wv_from_bin.vocab.keys())))\n",
    "    return wv_from_bin"
   ]
  },
  {
   "cell_type": "code",
   "execution_count": null,
   "metadata": {
    "colab": {
     "base_uri": "https://localhost:8080/"
    },
    "id": "JCvVlSLZSSuJ",
    "outputId": "46b123c8-b3aa-49e0-99d3-a92b5c38ebfa",
    "scrolled": true
   },
   "outputs": [
    {
     "name": "stdout",
     "output_type": "stream",
     "text": [
      "[==================================================] 100.0% 252.1/252.1MB downloaded\n",
      "Loaded vocab size 400000\n"
     ]
    }
   ],
   "source": [
    "# -----------------------------------\n",
    "# Run Cell to Load Word Vectors\n",
    "# Note: This will take a couple minutes\n",
    "# -----------------------------------\n",
    "wv_from_bin = load_embedding_model()"
   ]
  },
  {
   "cell_type": "markdown",
   "metadata": {
    "id": "egIeG1RTSSuK"
   },
   "source": [
    "#### Note: If you are receiving a \"reset by peer\" error, rerun the cell to restart the download. If you run into an \"attribute\" error, you may need to update to the most recent version of gensim and numpy. You can upgrade them inline by uncommenting and running the below cell:"
   ]
  },
  {
   "cell_type": "code",
   "execution_count": null,
   "metadata": {
    "id": "ZlF5fxSXcq95"
   },
   "outputs": [],
   "source": [
    "#!pip install gensim --upgrade \n",
    "#!pip install numpy --upgrade"
   ]
  },
  {
   "cell_type": "markdown",
   "metadata": {
    "id": "rH9gWJWpSSuL"
   },
   "source": [
    "### Reducing dimensionality of Word Embeddings\n",
    "Let's directly compare the GloVe embeddings to those of the co-occurrence matrix. In order to avoid running out of memory, we will work with a sample of 10000 GloVe vectors instead.\n",
    "Run the following cells to:\n",
    "\n",
    "1. Put 10000 Glove vectors into a matrix M\n",
    "2. Run `reduce_to_k_dim` (your Truncated SVD function) to reduce the vectors from 200-dimensional to 2-dimensional."
   ]
  },
  {
   "cell_type": "code",
   "execution_count": null,
   "metadata": {
    "id": "0PROUu_-SSuL"
   },
   "outputs": [],
   "source": [
    "def get_matrix_of_vectors(wv_from_bin, required_words):\n",
    "    \"\"\" Put the GloVe vectors into a matrix M.\n",
    "        Param:\n",
    "            wv_from_bin: KeyedVectors object; the 400000 GloVe vectors loaded from file\n",
    "        Return:\n",
    "            M: numpy matrix shape (num words, 200) containing the vectors\n",
    "            word2ind: dictionary mapping each word to its row number in M\n",
    "    \"\"\"\n",
    "    import random\n",
    "    #words = list(wv_from_bin.index_to_key)\n",
    "    words = list(wv_from_bin.vocab.keys())\n",
    "    print(\"Shuffling words ...\")\n",
    "    random.seed(225)\n",
    "    random.shuffle(words)\n",
    "    words = words[:10000]\n",
    "    print(\"Putting %i words into word2ind and matrix M...\" % len(words))\n",
    "    word2ind = {}\n",
    "    M = []\n",
    "    curInd = 0\n",
    "    for w in words:\n",
    "        try:\n",
    "            M.append(wv_from_bin.get_vector(w))\n",
    "            word2ind[w] = curInd\n",
    "            curInd += 1\n",
    "        except KeyError:\n",
    "            continue\n",
    "    for w in required_words:\n",
    "        if w in words:\n",
    "            continue\n",
    "        try:\n",
    "            M.append(wv_from_bin.get_vector(w))\n",
    "            word2ind[w] = curInd\n",
    "            curInd += 1\n",
    "        except KeyError:\n",
    "            continue\n",
    "    M = np.stack(M)\n",
    "    print(\"Done.\")\n",
    "    return M, word2ind"
   ]
  },
  {
   "cell_type": "code",
   "execution_count": null,
   "metadata": {
    "colab": {
     "base_uri": "https://localhost:8080/"
    },
    "id": "cpgM0M-hSSuM",
    "outputId": "46369600-3d3b-42ad-8f5a-e2caf275ccf7"
   },
   "outputs": [
    {
     "name": "stdout",
     "output_type": "stream",
     "text": [
      "Shuffling words ...\n",
      "Putting 10000 words into word2ind and matrix M...\n",
      "Done.\n",
      "Running Truncated SVD over 10012 words...\n",
      "Done.\n"
     ]
    }
   ],
   "source": [
    "# -----------------------------------------------------------------\n",
    "# Run Cell to Reduce 200-Dimensional Word Embeddings to k Dimensions\n",
    "# Note: This should be quick to run\n",
    "# -----------------------------------------------------------------\n",
    "M, word2ind = get_matrix_of_vectors(wv_from_bin, words)\n",
    "M_reduced = reduce_to_k_dim(M, k=2)\n",
    "\n",
    "# Rescale (normalize) the rows to make them each of unit-length\n",
    "M_lengths = np.linalg.norm(M_reduced, axis=1)\n",
    "M_reduced_normalized = M_reduced / M_lengths[:, np.newaxis] # broadcasting"
   ]
  },
  {
   "cell_type": "markdown",
   "metadata": {
    "id": "8_46FYMJSSuN"
   },
   "source": [
    "**Note: If you are receiving out of memory issues on your local machine, try closing other applications to free more memory on your device. You may want to try restarting your machine so that you can free up extra memory. Then immediately run the jupyter notebook and see if you can load the word vectors properly. If you still have problems with loading the embeddings onto your local machine after this, please go to office hours or contact course staff.**"
   ]
  },
  {
   "cell_type": "markdown",
   "metadata": {
    "id": "zAFrU8ahSSuO"
   },
   "source": [
    "### Question 2.1: GloVe Plot Analysis [written] (3 points)\n",
    "\n",
    "Run the cell below to plot the 2D GloVe embeddings for `['value', 'gold', 'platinum', 'reserves', 'silver', 'metals', 'copper', 'belgium', 'australia', 'china', 'grammes', \"mine\"]`."
   ]
  },
  {
   "cell_type": "code",
   "execution_count": null,
   "metadata": {
    "colab": {
     "base_uri": "https://localhost:8080/",
     "height": 322
    },
    "id": "9kHRkjz6SSuO",
    "outputId": "d56f23c8-f99f-47f4-aa0c-46f58ef13770",
    "scrolled": true
   },
   "outputs": [
    {
     "data": {
      "image/png": "[encoded data removed]",
      "text/plain": [
       "<Figure size 720x360 with 1 Axes>"
      ]
     },
     "metadata": {
      "needs_background": "light"
     },
     "output_type": "display_data"
    }
   ],
   "source": [
    "words = ['value', 'gold', 'platinum', 'reserves', 'silver', 'metals', 'copper', \n",
    "         'belgium', 'australia', 'china', 'grammes', \"mine\"]\n",
    "\n",
    "plot_embeddings(M_reduced_normalized, word2ind, words)"
   ]
  },
  {
   "cell_type": "markdown",
   "metadata": {
    "id": "eOnrMZkzSSuP"
   },
   "source": [
    "a. What is one way the plot is different from the one generated earlier from the co-occurrence matrix? What is one way it's similar?"
   ]
  },
  {
   "cell_type": "markdown",
   "metadata": {
    "id": "5KC4PTQoSSuQ"
   },
   "source": [
    "### SOLUTION BEGIN\n",
    "The Glove plot is more clustered and the plot from the co-occurence matrix is more disperse. The GloVe plot cluster together the words Australia, Belgium, silver and metals. Surprisingly, copper and platinum are not clustered together as in the co-occurrence matrix plot. Some similarities between both plots are observed, like for example, gold and mine are clustered together, the same for the words Australia and Belgium.\n",
    "### SOLUTION END"
   ]
  },
  {
   "cell_type": "markdown",
   "metadata": {
    "id": "bNDY5puZSSuQ"
   },
   "source": [
    "b. What is a possible cause for the difference?"
   ]
  },
  {
   "cell_type": "markdown",
   "metadata": {
    "id": "o-cWAvi8SSuR"
   },
   "source": [
    "### SOLUTION BEGIN\n",
    "The possible cause for the difference is that the co-occurrence matrix only considered words that appears in close proximity in the corpus whereas GloVe captures the ratios of co-occurrence probabilities, which mitigate the effect large counts words, scaling the matrix of co-occurrence. \n",
    "### SOLUTION END"
   ]
  },
  {
   "cell_type": "markdown",
   "metadata": {
    "id": "nA8oIbjjSSuS"
   },
   "source": [
    "### Cosine Similarity\n",
    "Now that we have word vectors, we need a way to quantify the similarity between individual words, according to these vectors. One such metric is cosine-similarity. We will be using this to find words that are \"close\" and \"far\" from one another.\n",
    "\n",
    "We can think of n-dimensional vectors as points in n-dimensional space. If we take this perspective [L1](http://mathworld.wolfram.com/L1-Norm.html) and [L2](http://mathworld.wolfram.com/L2-Norm.html) Distances help quantify the amount of space \"we must travel\" to get between these two points. Another approach is to examine the angle between two vectors. From trigonometry we know that:\n",
    "\n",
    "![inner_product.png](data:image/png;base64,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)\n",
    "Instead of computing the actual angle, we can leave the similarity in terms of $similarity = cos(\\Theta)$. Formally the [Cosine Similarity](https://en.wikipedia.org/wiki/Cosine_similarity) $s$ between two vectors $p$ and $q$ is defined as:\n",
    "\n",
    "$$s = \\frac{p \\cdot q}{||p|| ||q||}, \\textrm{ where } s \\in [-1, 1] $$ "
   ]
  },
  {
   "cell_type": "markdown",
   "metadata": {
    "id": "sFfCOLUsSSuS"
   },
   "source": [
    "### Question 2.2: Words with Multiple Meanings (1.5 points) [code + written] \n",
    "Polysemes and homonyms are words that have more than one meaning (see this [wiki page](https://en.wikipedia.org/wiki/Polysemy) to learn more about the difference between polysemes and homonyms ). Find a word with *at least two different meanings* such that the top-10 most similar words (according to cosine similarity) contain related words from *both* meanings. For example, \"leaves\" has both \"go_away\" and \"a_structure_of_a_plant\" meaning in the top 10, and \"scoop\" has both \"handed_waffle_cone\" and \"lowdown\". You will probably need to try several polysemous or homonymic words before you find one. \n",
    "\n",
    "Please state the word you discover and the multiple meanings that occur in the top 10. Why do you think many of the polysemous or homonymic words you tried didn't work (i.e. the top-10 most similar words only contain **one** of the meanings of the words)?\n",
    "\n",
    "**Note**: You should use the `wv_from_bin.most_similar(word)` function to get the top 10 similar words. This function ranks all other words in the vocabulary with respect to their cosine similarity to the given word. For further assistance, please check the __[GenSim documentation](https://radimrehurek.com/gensim/models/keyedvectors.html#gensim.models.keyedvectors.FastTextKeyedVectors.most_similar)__."
   ]
  },
  {
   "cell_type": "code",
   "execution_count": null,
   "metadata": {
    "colab": {
     "base_uri": "https://localhost:8080/"
    },
    "id": "ZAr09U-xSSuT",
    "outputId": "6b323602-f2d0-4983-83d9-bb3d99ab2928"
   },
   "outputs": [
    {
     "name": "stdout",
     "output_type": "stream",
     "text": [
      "[('serving', 0.7944269180297852), ('served', 0.7393940687179565), ('serves', 0.7277334928512573), ('make', 0.5822009444236755), ('to', 0.5817011594772339), ('break', 0.5659143924713135), ('should', 0.5649185180664062), ('well', 0.5588014125823975), ('provide', 0.5582747459411621), ('give', 0.5573369264602661)]\n"
     ]
    }
   ],
   "source": [
    "### SOLUTION BEGIN\n",
    "similars = wv_from_bin.most_similar(\"serve\")\n",
    "print(similars)\n",
    "### SOLUTION END"
   ]
  },
  {
   "cell_type": "markdown",
   "metadata": {
    "id": "VdQ018tjSSuT"
   },
   "source": [
    "### SOLUTION BEGIN\n",
    "- Please state the word you discover and the multiple meanings that occur in the top 10. \n",
    "\n",
    "The polysemous word I discover is 'serve'. The multiple meanings that occur in the top 10 includes make, provide and give.\n",
    "\n",
    "- Why do you think many of the polysemous or homonymic words you tried didn't work (i.e. the top-10 most similar words only contain one of the meanings of the words)?\n",
    "\n",
    "A possible explanation could be that only one of the word meanings has been used most frequently in the corpus and the other meanings are very rare in the corpus.\n",
    "\n",
    "\n",
    "### SOLUTION END"
   ]
  },
  {
   "cell_type": "markdown",
   "metadata": {
    "id": "VfeW-eK9SSuU"
   },
   "source": [
    "### Question 2.3: Synonyms & Antonyms (2 points) [code + written] \n",
    "\n",
    "When considering Cosine Similarity, it's often more convenient to think of Cosine Distance, which is simply 1 - Cosine Similarity.\n",
    "\n",
    "Find three words $(w_1,w_2,w_3)$ where $w_1$ and $w_2$ are synonyms and $w_1$ and $w_3$ are antonyms, but Cosine Distance $(w_1,w_3) <$ Cosine Distance $(w_1,w_2)$. \n",
    "\n",
    "As an example, $w_1$=\"happy\" is closer to $w_3$=\"sad\" than to $w_2$=\"cheerful\". Please find a different example that satisfies the above. Once you have found your example, please give a possible explanation for why this counter-intuitive result may have happened.\n",
    "\n",
    "You should use the the `wv_from_bin.distance(w1, w2)` function here in order to compute the cosine distance between two words. Please see the __[GenSim documentation](https://radimrehurek.com/gensim/models/keyedvectors.html#gensim.models.keyedvectors.FastTextKeyedVectors.distance)__ for further assistance."
   ]
  },
  {
   "cell_type": "code",
   "execution_count": null,
   "metadata": {
    "colab": {
     "base_uri": "https://localhost:8080/"
    },
    "id": "bwlpPjpHSSuV",
    "outputId": "2eb1f56d-56eb-4f3d-b7de-2e04d8127b3c"
   },
   "outputs": [
    {
     "name": "stdout",
     "output_type": "stream",
     "text": [
      "Synonyms dry, arid have cosine distance: 0.47727078199386597\n",
      "Antonyms dry, wet have cosine distance: 0.26958924531936646\n"
     ]
    }
   ],
   "source": [
    "### SOLUTION BEGIN\n",
    "\n",
    "w1 = \"dry\"\n",
    "w2 = \"arid\"\n",
    "w3 = \"wet\"\n",
    "w1_w2_dist = wv_from_bin.distance(w1, w2)\n",
    "w1_w3_dist = wv_from_bin.distance(w1, w3)\n",
    "\n",
    "print(\"Synonyms {}, {} have cosine distance: {}\".format(w1, w2, w1_w2_dist))\n",
    "print(\"Antonyms {}, {} have cosine distance: {}\".format(w1, w3, w1_w3_dist))\n",
    "\n",
    "### SOLUTION END"
   ]
  },
  {
   "cell_type": "markdown",
   "metadata": {
    "id": "PeIHjTFMSSuV"
   },
   "source": [
    "### SOLUTION BEGIN\n",
    "Dry and arid are synonyms and wet is an antonym. However, the cosine distance using the Reuters corpus indicates that dry is further away from arid than from wet. One reason could be that dry and wet appear frequently together in the same sentence, they are usually used in similar context and are exchangeable in a much larger variety of context. On the other hand, dry and arid are synonyms only in a specific context, like for example talking about landscapes.\n",
    "### SOLUTION END"
   ]
  },
  {
   "cell_type": "markdown",
   "metadata": {
    "id": "ZxIDq26zSSuW"
   },
   "source": [
    "### Question 2.4: Analogies with Word Vectors [written] (1.5 points)\n",
    "Word vectors have been shown to *sometimes* exhibit the ability to solve analogies. \n",
    "\n",
    "As an example, for the analogy \"man : grandfather :: woman : x\" (read: man is to grandfather as woman is to x), what is x?\n",
    "\n",
    "In the cell below, we show you how to use word vectors to find x using the `most_similar` function from the __[GenSim documentation](https://radimrehurek.com/gensim/models/keyedvectors.html#gensim.models.keyedvectors.KeyedVectors.most_similar)__. The function finds words that are most similar to the words in the `positive` list and most dissimilar from the words in the `negative` list (while omitting the input words, which are often the most similar; see [this paper](https://www.aclweb.org/anthology/N18-2039.pdf)). The answer to the analogy will have the highest cosine similarity (largest returned numerical value)."
   ]
  },
  {
   "cell_type": "code",
   "execution_count": null,
   "metadata": {
    "colab": {
     "base_uri": "https://localhost:8080/"
    },
    "id": "u0pC7H4VSSuY",
    "outputId": "3736a386-4969-43c8-a781-851dbd3aea5d"
   },
   "outputs": [
    {
     "name": "stdout",
     "output_type": "stream",
     "text": [
      "[('grandmother', 0.7608444690704346),\n",
      " ('granddaughter', 0.7200808525085449),\n",
      " ('daughter', 0.7168302536010742),\n",
      " ('mother', 0.7151535749435425),\n",
      " ('niece', 0.7005682587623596),\n",
      " ('father', 0.6659887433052063),\n",
      " ('aunt', 0.6623408794403076),\n",
      " ('grandson', 0.6618767976760864),\n",
      " ('grandparents', 0.6446609497070312),\n",
      " ('wife', 0.6445354223251343)]\n"
     ]
    }
   ],
   "source": [
    "# Run this cell to answer the analogy -- man : grandfather :: woman : x\n",
    "pprint.pprint(wv_from_bin.most_similar(positive=['woman', 'grandfather'], negative=['man']))"
   ]
  },
  {
   "cell_type": "markdown",
   "metadata": {
    "id": "XVv8I9WwSSuZ"
   },
   "source": [
    "Let $m$, $g$, $w$, and $x$ denote the word vectors for `man`, `grandfather`, `woman`, and the answer, respectively. Using **only** vectors $m$, $g$, $w$, and the vector arithmetic operators $+$ and $-$ in your answer, to what expression are we maximizing $x$'s cosine similarity?\n",
    "\n",
    "Hint: Recall that word vectors are simply multi-dimensional vectors that represent a word. It might help to draw out a 2D example using arbitrary locations of each vector. Where would `man` and `woman` lie in the coordinate plane relative to `grandfather` and the answer?"
   ]
  },
  {
   "cell_type": "markdown",
   "metadata": {
    "id": "KlUKBqtHSSuZ"
   },
   "source": [
    "### SOLUTION BEGIN\n",
    "The expression is:\n",
    "\n",
    "x = g-m+w\n",
    "### SOLUTION END"
   ]
  },
  {
   "cell_type": "markdown",
   "metadata": {
    "id": "2rRgMca9SSua"
   },
   "source": [
    "### Question 2.5: Finding Analogies [code + written]  (1.5 points)\n",
    "a. For the previous example, it's clear that \"grandmother\" completes the analogy. But give an intuitive explanation as to why the `most_similar` function gives us words like \"granddaughter\", \"daughter\", or \"mother?"
   ]
  },
  {
   "cell_type": "markdown",
   "metadata": {
    "id": "WgYQXazQSSua"
   },
   "source": [
    "### SOLUTION BEGIN\n",
    "The most_similar function gives us words like \"granddaughter\", \"daughter\", or \"mother because they are very similar to the positive words and least similar to the words in the negative list. Then we will have a high cosine similarity for these words. \n",
    "### SOLUTION END"
   ]
  },
  {
   "cell_type": "markdown",
   "metadata": {
    "id": "p9aAUXEISSub"
   },
   "source": [
    "b. Find an example of analogy that holds according to these vectors (i.e. the intended word is ranked top). In your solution please state the full analogy in the form x:y :: a:b. If you believe the analogy is complicated, explain why the analogy holds in one or two sentences.\n",
    "\n",
    "**Note**: You may have to try many analogies to find one that works!"
   ]
  },
  {
   "cell_type": "code",
   "execution_count": null,
   "metadata": {
    "id": "dhzQJMYYVSjf"
   },
   "outputs": [],
   "source": [
    "### SOLUTION BEGIN\n",
    "\n",
    "x, y, a, b = 'prince', 'king', 'princess', 'queen'\n",
    "assert wv_from_bin.most_similar(positive=[a, y], negative=[x])[0][0] == b\n",
    "\n",
    "### SOLUTION END"
   ]
  },
  {
   "cell_type": "markdown",
   "metadata": {
    "id": "K3QlPqAwSSub"
   },
   "source": [
    "### SOLUTION BEGIN\n",
    "'prince':'king' = 'princess':'queen'\n",
    "\n",
    "### SOLUTION END"
   ]
  },
  {
   "cell_type": "markdown",
   "metadata": {
    "id": "SwgcEywwSSuc"
   },
   "source": [
    "### Question 2.6: Incorrect Analogy [code + written] (1.5 points)\n",
    "a. Below, we expect to see the intended analogy \"hand : glove :: foot : **sock**\", but we see an unexpected result instead. Give a potential reason as to why this particular analogy turned out the way it did?"
   ]
  },
  {
   "cell_type": "code",
   "execution_count": null,
   "metadata": {
    "colab": {
     "base_uri": "https://localhost:8080/"
    },
    "id": "m-ykWoJoSSuc",
    "outputId": "e9380747-6d77-416c-e59f-739b4d263140"
   },
   "outputs": [
    {
     "name": "stdout",
     "output_type": "stream",
     "text": [
      "[('45,000-square', 0.4922032356262207),\n",
      " ('15,000-square', 0.4649604558944702),\n",
      " ('10,000-square', 0.45447561144828796),\n",
      " ('6,000-square', 0.44975775480270386),\n",
      " ('3,500-square', 0.4441334009170532),\n",
      " ('700-square', 0.44257503747940063),\n",
      " ('50,000-square', 0.4356396794319153),\n",
      " ('3,000-square', 0.43486517667770386),\n",
      " ('30,000-square', 0.4330596923828125),\n",
      " ('footed', 0.43236875534057617)]\n"
     ]
    }
   ],
   "source": [
    "pprint.pprint(wv_from_bin.most_similar(positive=['foot', 'glove'], negative=['hand']))"
   ]
  },
  {
   "cell_type": "markdown",
   "metadata": {
    "id": "zn4ruS8MSSud"
   },
   "source": [
    "### SOLUTION BEGIN\n",
    "It seems that the model may not know that 'foot' can have different meanings and it is not only an unit of measurement. Another reason could be that glove and sock may not have similar word vectors. \n",
    "### SOLUTION END"
   ]
  },
  {
   "cell_type": "markdown",
   "metadata": {
    "id": "D1gHyZt0SSud"
   },
   "source": [
    "b. Find another example of analogy that does *not* hold according to these vectors. In your solution, state the intended analogy in the form x:y :: a:b, and state the **incorrect** value of b according to the word vectors (in the previous example, this would be **'45,000-square'**)."
   ]
  },
  {
   "cell_type": "code",
   "execution_count": null,
   "metadata": {
    "colab": {
     "base_uri": "https://localhost:8080/"
    },
    "id": "D_rlci42XQTw",
    "outputId": "4d639969-f2be-412a-e330-c15f112d87cd"
   },
   "outputs": [
    {
     "name": "stdout",
     "output_type": "stream",
     "text": [
      "[('woods', 0.4931395351886749),\n",
      " ('tigers', 0.4840834140777588),\n",
      " ('bear', 0.43776991963386536),\n",
      " ('lion', 0.4275178611278534),\n",
      " ('hunting', 0.4224510192871094),\n",
      " ('mickelson', 0.41707539558410645),\n",
      " ('cub', 0.41608965396881104),\n",
      " ('hunter', 0.4141656458377838),\n",
      " ('fighting', 0.4121222198009491),\n",
      " ('soldier', 0.4110243320465088)]\n"
     ]
    }
   ],
   "source": [
    "### SOLUTION BEGIN\n",
    "\n",
    "x, y, a, b = 'cat', 'tiger', 'dog', 'wolf'\n",
    "pprint.pprint(wv_from_bin.most_similar(positive=[a, y], negative=[x]))\n",
    "### SOLUTION END"
   ]
  },
  {
   "cell_type": "markdown",
   "metadata": {
    "id": "c4x0EHjeSSue"
   },
   "source": [
    "### SOLUTION BEGIN\n",
    "I expect to see the intended analogy \"cat : tiger :: dog : wolf\", but we see an unexpected result instead: woods. It looks like that dog and wolf may not similar in the word vector.\n",
    "### SOLUTION END"
   ]
  },
  {
   "cell_type": "markdown",
   "metadata": {
    "id": "yvlycXN-SSuf"
   },
   "source": [
    "### Question 2.7: Guided Analysis of Bias in Word Vectors [written] (1 point)\n",
    "\n",
    "It's important to be cognizant of the biases (gender, race, sexual orientation etc.) implicit in our word embeddings. Bias can be dangerous because it can reinforce stereotypes through applications that employ these models.\n",
    "\n",
    "Run the cell below, to examine (a) which terms are most similar to \"woman\" and \"profession\" and most dissimilar to \"man\", and (b) which terms are most similar to \"man\" and \"profession\" and most dissimilar to \"woman\". Point out the difference between the list of female-associated words and the list of male-associated words, and explain how it is reflecting gender bias."
   ]
  },
  {
   "cell_type": "code",
   "execution_count": null,
   "metadata": {
    "colab": {
     "base_uri": "https://localhost:8080/"
    },
    "id": "XggWA4MhSSuf",
    "outputId": "98861c31-0ae1-4721-a72c-7efabf5b0e2e"
   },
   "outputs": [
    {
     "name": "stdout",
     "output_type": "stream",
     "text": [
      "[('reputation', 0.5250176191329956),\n",
      " ('professions', 0.5178038477897644),\n",
      " ('skill', 0.49046966433525085),\n",
      " ('skills', 0.49005505442619324),\n",
      " ('ethic', 0.4897659420967102),\n",
      " ('business', 0.4875851273536682),\n",
      " ('respected', 0.4859202802181244),\n",
      " ('practice', 0.4821045994758606),\n",
      " ('regarded', 0.47785723209381104),\n",
      " ('life', 0.4760662317276001)]\n",
      "\n",
      "[('professions', 0.5957458019256592),\n",
      " ('practitioner', 0.498841255903244),\n",
      " ('teaching', 0.48292142152786255),\n",
      " ('nursing', 0.4821180999279022),\n",
      " ('vocation', 0.4788966178894043),\n",
      " ('teacher', 0.47160351276397705),\n",
      " ('practicing', 0.46937811374664307),\n",
      " ('educator', 0.46524325013160706),\n",
      " ('physicians', 0.4628995358943939),\n",
      " ('professionals', 0.4601394236087799)]\n"
     ]
    }
   ],
   "source": [
    "# Run this cell\n",
    "# Here `positive` indicates the list of words to be similar to and `negative` indicates the list of words to be\n",
    "# most dissimilar from.\n",
    "\n",
    "pprint.pprint(wv_from_bin.most_similar(positive=['man', 'profession'], negative=['woman']))\n",
    "print()\n",
    "pprint.pprint(wv_from_bin.most_similar(positive=['woman', 'profession'], negative=['man']))"
   ]
  },
  {
   "cell_type": "markdown",
   "metadata": {
    "id": "x4g6KbsYSSuh"
   },
   "source": [
    "### SOLUTION BEGIN\n",
    "\"woman\" is to \"profession\" as \"man\" is to:  reputation, professions, skill, skills, ethic, business, respected, practice, regarded, life.\n",
    "\n",
    "\n",
    "\"man\" is to \"profession\" as \"woman\" is to: professions, practitioner, teaching, nursing, vocation, teacher, practicing, educator, physicians, professionals.\n",
    "\n",
    "The list of words associated with women are words related primarily to careers that help people, such as teaching, nursing, educator. The words related to man, is more about ethic and business. These results came from both the corpus and the language itself, which contains gender stereotypes, making the model repeat those stereotypes.\n",
    "\n",
    "\n",
    "### SOLUTION END"
   ]
  },
  {
   "cell_type": "markdown",
   "metadata": {
    "id": "LxJmnS6lSSui"
   },
   "source": [
    "### Question 2.8: Independent Analysis of Bias in Word Vectors [code + written]  (1 point)\n",
    "\n",
    "Use the `most_similar` function to find another pair of analogies that demonstrates some bias is exhibited by the vectors. Please briefly explain the example of bias that you discover."
   ]
  },
  {
   "cell_type": "code",
   "execution_count": null,
   "metadata": {
    "colab": {
     "base_uri": "https://localhost:8080/"
    },
    "id": "PZoDheIfSSui",
    "outputId": "0b1a0a67-3873-449e-b3f1-be0e52103bc4"
   },
   "outputs": [
    {
     "name": "stdout",
     "output_type": "stream",
     "text": [
      "[('nurse', 0.7208659648895264),\n",
      " ('doctors', 0.6413154602050781),\n",
      " ('patient', 0.6289440393447876),\n",
      " ('woman', 0.6113752126693726),\n",
      " ('hospital', 0.6000144481658936),\n",
      " ('pregnant', 0.5975667238235474),\n",
      " ('nurses', 0.5725877285003662),\n",
      " ('physician', 0.5669364929199219),\n",
      " ('medical', 0.5617853403091431),\n",
      " ('patients', 0.5472391247749329)]\n",
      "\n",
      "[('physician', 0.6719361543655396),\n",
      " ('surgeon', 0.6208167672157288),\n",
      " ('dr.', 0.5724584460258484),\n",
      " ('brother', 0.5710499882698059),\n",
      " ('son', 0.5303334593772888),\n",
      " ('he', 0.5294877290725708),\n",
      " ('medical', 0.5288361310958862),\n",
      " ('uncle', 0.5231920480728149),\n",
      " ('himself', 0.5133481621742249),\n",
      " ('pharmacist', 0.5111744999885559)]\n"
     ]
    }
   ],
   "source": [
    "### SOLUTION BEGIN\n",
    "\n",
    "A = 'mother'\n",
    "B = 'father'\n",
    "word = 'doctor'\n",
    "pprint.pprint(wv_from_bin.most_similar(positive=[A, word], negative=[B]))\n",
    "print()\n",
    "pprint.pprint(wv_from_bin.most_similar(positive=[B, word], negative=[A]))\n",
    "\n",
    "### SOLUTION END"
   ]
  },
  {
   "cell_type": "markdown",
   "metadata": {
    "id": "TGOlmtJoSSuj"
   },
   "source": [
    "### SOLUTION BEGIN\n",
    "The results shows an inherent bias that word mother is associated with terms like nurse, pregnant, and patient, and the word father is associated to physician and surgeon. The result exhibit female/male gender stereotypes.\n",
    "### SOLUTION END"
   ]
  },
  {
   "cell_type": "markdown",
   "metadata": {
    "id": "eK2XVWzmSSuk"
   },
   "source": [
    "### Question 2.9: Thinking About Bias [written] (2 points)\n",
    "\n",
    "a. Give one explanation of how bias gets into the word vectors. Briefly describe a real-world example that demonstrates this source of bias."
   ]
  },
  {
   "cell_type": "markdown",
   "metadata": {
    "id": "19pM85fCSSuk"
   },
   "source": [
    "### SOLUTION BEGIN\n",
    "The biases are inherently present in the training data. Model is a statistical extraction of these latent variables and the vector space is a tool to expose the biases and make them clearly visible. Biases are not a property of the algorithm but of the world respectively training data collected from it. A real world example was discussed by Bolukbasi et al. (2016). The authors found that trained word embeddings in Google News articles exhibit female/male gender stereotypes. They found analogies such as \"man is to programmer as woman is to homemaker\", which exhibit implicit sexism in the text.\n",
    "\n",
    "### SOLUTION END"
   ]
  },
  {
   "cell_type": "markdown",
   "metadata": {
    "id": "ILYqJZ7ASSul"
   },
   "source": [
    "b. What is one method you can use to mitigate bias exhibited by word vectors?  Briefly describe a real-world example that demonstrates this method."
   ]
  },
  {
   "cell_type": "markdown",
   "metadata": {
    "id": "dnJaAB7mSSul"
   },
   "source": [
    "\n",
    "### SOLUTION BEGIN\n",
    "One method we can use to mitigate bias exhibited by word vectors is to use  \"hard debiasing\" technique. A very famous real-world example is the work by Bolukbasi et al. (2016). The authors proposed a method for debiasing word embeddings which involves modifying an embedding to remove gender stereotypes, while preserving the relationships between the words.\n",
    "### SOLUTION END"
   ]
  },
  {
   "cell_type": "markdown",
   "metadata": {
    "id": "dzh3eEmZSSum"
   },
   "source": [
    "# <font color=\"blue\"> Submission Instructions</font>\n",
    "\n",
    "1. Click the Save button at the top of the Jupyter Notebook.\n",
    "2. Select Cell -> All Output -> Clear. This will clear all the outputs from all cells (but will keep the content of all cells). \n",
    "2. Select Cell -> Run All. This will run all the cells in order, and will take several minutes.\n",
    "3. Once you've rerun everything, select File -> Download as -> PDF via LaTeX (If you have trouble using \"PDF via LaTex\", you can also save the webpage as pdf. <font color='blue'> Make sure all your solutions especially the coding parts are displayed in the pdf</font>, it's okay if the provided codes get cut off because lines are not wrapped in code cells).\n",
    "4. Look at the PDF file and make sure all your solutions are there, displayed correctly. The PDF is the only thing your graders will see!\n",
    "5. Submit your PDF on Gradescope."
   ]
  }
 ],
 "metadata": {
  "anaconda-cloud": {},
  "colab": {
   "provenance": []
  },
  "gpuClass": "standard",
  "kernelspec": {
   "display_name": "Python 3",
   "language": "python",
   "name": "python3"
  },
  "language_info": {
   "codemirror_mode": {
    "name": "ipython",
    "version": 3
   },
   "file_extension": ".py",
   "mimetype": "text/x-python",
   "name": "python",
   "nbconvert_exporter": "python",
   "pygments_lexer": "ipython3",
   "version": "3.7.6"
  },
  "varInspector": {
   "cols": {
    "lenName": 16,
    "lenType": 16,
    "lenVar": 40
   },
   "kernels_config": {
    "python": {
     "delete_cmd_postfix": "",
     "delete_cmd_prefix": "del ",
     "library": "var_list.py",
     "varRefreshCmd": "print(var_dic_list())"
    },
    "r": {
     "delete_cmd_postfix": ") ",
     "delete_cmd_prefix": "rm(",
     "library": "var_list.r",
     "varRefreshCmd": "cat(var_dic_list()) "
    }
   },
   "types_to_exclude": [
    "module",
    "function",
    "builtin_function_or_method",
    "instance",
    "_Feature"
   ],
   "window_display": false
  }
 },
 "nbformat": 4,
 "nbformat_minor": 1
}
